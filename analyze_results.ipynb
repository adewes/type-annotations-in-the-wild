{
 "cells": [
  {
   "cell_type": "code",
   "execution_count": 76,
   "metadata": {},
   "outputs": [],
   "source": [
    "import matplotlib\n",
    "from matplotlib.pylab import *\n",
    "%matplotlib inline\n",
    "\n",
    "matplotlib.rcParams['font.size'] = 16"
   ]
  },
  {
   "cell_type": "code",
   "execution_count": 33,
   "metadata": {},
   "outputs": [],
   "source": [
    "import json\n",
    "repos = []\n",
    "with open('data/repos_with_annotation_infos.json') as input_file:\n",
    "    for line in input_file:\n",
    "        repos.append(json.loads(line))"
   ]
  },
  {
   "cell_type": "code",
   "execution_count": 40,
   "metadata": {},
   "outputs": [],
   "source": [
    "repos = repos[1:]"
   ]
  },
  {
   "cell_type": "code",
   "execution_count": 41,
   "metadata": {},
   "outputs": [],
   "source": [
    "import math\n",
    "N = math.ceil(sqrt(len(repos)))"
   ]
  },
  {
   "cell_type": "code",
   "execution_count": 87,
   "metadata": {},
   "outputs": [],
   "source": [
    "import numpy as np\n",
    "all_annotations = np.zeros((N, N)) + 1\n",
    "inline_annotations = np.zeros((N, N)) + 1\n",
    "comment_annotations = np.zeros((N, N)) + 1\n",
    "pyi_annotations = np.zeros((N, N)) + 1\n",
    "for i, repo in enumerate(repos):\n",
    "    all_annotations[i%N,i//N] = 1 + sum([file['annotation_hints']+file['return_hints']+file['type_comments']+file['typing_imports']+(1 if file['pyi_file'] else 0) for file in repo['files']])\n",
    "    inline_annotations[i%N,i//N] = 1 + sum([file['annotation_hints']+file['return_hints'] for file in repo['files']])\n",
    "    comment_annotations[i%N,i//N] = 1 + sum([file['type_comments'] for file in repo['files']])\n",
    "    pyi_annotations[i%N,i//N] = 1 + sum([(1 if file['pyi_file'] else 0) for file in repo['files']])"
   ]
  },
  {
   "cell_type": "code",
   "execution_count": 91,
   "metadata": {},
   "outputs": [
    {
     "name": "stdout",
     "output_type": "stream",
     "text": [
      "All annotations: 103\n",
      "Inline annotations: 51\n",
      "Comment annotations: 64\n",
      "Pyi annotations: 7\n"
     ]
    }
   ],
   "source": [
    "print(\"All annotations:\",np.sum(all_annotations > 1))\n",
    "print(\"Inline annotations:\",np.sum(inline_annotations > 1))\n",
    "print(\"Comment annotations:\",np.sum(comment_annotations > 1))\n",
    "print(\"Pyi annotations:\",np.sum(pyi_annotations > 1))"
   ]
  },
  {
   "cell_type": "code",
   "execution_count": 93,
   "metadata": {},
   "outputs": [
    {
     "name": "stdout",
     "output_type": "stream",
     "text": [
      "All annotations: 53\n",
      "Inline annotations: 33\n",
      "Comment annotations: 28\n",
      "Pyi annotations: 1\n"
     ]
    }
   ],
   "source": [
    "print(\"All annotations:\",np.sum(all_annotations > 11))\n",
    "print(\"Inline annotations:\",np.sum(inline_annotations > 11))\n",
    "print(\"Comment annotations:\",np.sum(comment_annotations > 11))\n",
    "print(\"Pyi annotations:\",np.sum(pyi_annotations > 11))"
   ]
  },
  {
   "cell_type": "code",
   "execution_count": 94,
   "metadata": {},
   "outputs": [
    {
     "name": "stdout",
     "output_type": "stream",
     "text": [
      "All annotations: 46\n",
      "Inline annotations: 30\n",
      "Comment annotations: 22\n",
      "Pyi annotations: 1\n"
     ]
    }
   ],
   "source": [
    "print(\"All annotations:\",np.sum(all_annotations > 21))\n",
    "print(\"Inline annotations:\",np.sum(inline_annotations > 21))\n",
    "print(\"Comment annotations:\",np.sum(comment_annotations > 21))\n",
    "print(\"Pyi annotations:\",np.sum(pyi_annotations > 21))"
   ]
  },
  {
   "cell_type": "code",
   "execution_count": 88,
   "metadata": {},
   "outputs": [
    {
     "data": {
      "text/plain": [
       "<matplotlib.text.Text at 0x7f397913b390>"
      ]
     },
     "execution_count": 88,
     "metadata": {},
     "output_type": "execute_result"
    },
    {
     "data": {
      "image/png": "[encoded data removed]",
      "text/plain": [
       "<matplotlib.figure.Figure at 0x7f39790cc860>"
      ]
     },
     "metadata": {},
     "output_type": "display_data"
    }
   ],
   "source": [
    "from matplotlib.colors import LogNorm\n",
    "from matplotlib.ticker import LogFormatterMathtext\n",
    "\n",
    "figure(figsize=(14,14))\n",
    "ax = gca()\n",
    "imshow(pyi_annotations, interpolation=None, aspect='equal', norm=LogNorm())\n",
    "\n",
    "# Major ticks\n",
    "ax.set_xticks(np.arange(0, N, 1));\n",
    "ax.set_yticks(np.arange(0, N, 1));\n",
    "\n",
    "# Labels for major ticks\n",
    "ax.set_xticklabels([]);\n",
    "ax.set_yticklabels([]);\n",
    "\n",
    "# Minor ticks\n",
    "ax.set_xticks(np.arange(-.5, N, 1), minor=True);\n",
    "ax.set_yticks(np.arange(-.5, N, 1), minor=True);\n",
    "\n",
    "ax.grid(which='minor', color='black', linestyle='-', linewidth=2)\n",
    "\n",
    "colorbar(orientation='horizontal',format=LogFormatterMathtext(), fraction=0.0465, pad=0.03)\n",
    "title(\"Pyi files\")"
   ]
  },
  {
   "cell_type": "code",
   "execution_count": null,
   "metadata": {
    "collapsed": true
   },
   "outputs": [],
   "source": []
  }
 ],
 "metadata": {
  "kernelspec": {
   "display_name": "Python 3",
   "language": "python",
   "name": "python3"
  },
  "language_info": {
   "codemirror_mode": {
    "name": "ipython",
    "version": 3
   },
   "file_extension": ".py",
   "mimetype": "text/x-python",
   "name": "python",
   "nbconvert_exporter": "python",
   "pygments_lexer": "ipython3",
   "version": "3.5.2+"
  }
 },
 "nbformat": 4,
 "nbformat_minor": 2
}
